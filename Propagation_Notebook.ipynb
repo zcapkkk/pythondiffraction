{
 "cells": [
  {
   "cell_type": "markdown",
   "id": "48bc8c78",
   "metadata": {},
   "source": [
    "# Diffraction Simulation with Python\n",
    "\n",
    "Diffraction effects demonstrates the wavelike nature of light. It is one of the most fundamental results to the study of optics. Moreover, they can also be incredibly beautiful. However, not everyone will buy a diffraction grating or related structure to demonstrate this effect, and it is nice to have a simulation that can be accessed online to play with. I have written MATLAB code during the summer of 2021 to perform Terahertz Waves propagation, and I have decided to port it over to Python in order to make an optical simulation that demonstrates diffraction effects. Hope you find it useful, and please do contact me if you discover any error or have any suggestions!"
   ]
  },
  {
   "cell_type": "code",
   "execution_count": 17,
   "id": "57669a44",
   "metadata": {},
   "outputs": [],
   "source": [
    "import numpy as np\n",
    "import matplotlib.pyplot as plt\n",
    "from ipywidgets import widgets"
   ]
  },
  {
   "cell_type": "markdown",
   "id": "136ee25c",
   "metadata": {},
   "source": [
    "## Defining classes\n",
    "\n",
    "As in the MATLAB code, I have to define the classes for the Lens and Propagator. "
   ]
  },
  {
   "cell_type": "code",
   "execution_count": 18,
   "id": "f27a19d2",
   "metadata": {},
   "outputs": [],
   "source": [
    "class Propagator:\n",
    "    def __init__(self, L, wavelength, dx):\n",
    "        self.L = L\n",
    "        self.wavelength = wavelength\n",
    "        self.dx = dx   \n",
    "        self.M = L/dx+1\n",
    "        self.x = np.arange(-L/2,L/2,self.dx)\n",
    "        self.y = np.arange(-L/2,L/2,self.dx)\n",
    "        self.X, self.Y = np.meshgrid(self.x, self.y)\n",
    "\n",
    "    def pso(self, xangle, yangle, R1):\n",
    "        xshift = R1*np.sin(np.radians(xangle))\n",
    "        xshiftblocks = np.fix(xshift/self.dx)\n",
    "        yshift = R1*np.sin(np.radians(yangle))\n",
    "        yshiftblocks = np.fix(yshift/self.dx)\n",
    "        u0 = np.zeros(self.M)\n",
    "        u0[np.floor(self.M/2)-yshiftblocks,np.floor(self.M/2)-xshiftblocks] = 1;\n",
    "        return u0\n",
    "         \n",
    "    \n",
    "    def prop(self, u0, z):\n",
    "        '''propagates source to focal plane'''\n",
    "        k = 2*np.pi/self.wavelength\n",
    "        fx = np.arange(-1/(2*self.dx),1/(2*self.dx),1/self.L)\n",
    "        fy = np.arange(-1/(2*self.dx),1/(2*self.dx),1/self.L)\n",
    "        Fx, Fy = np.meshgrid(fx,fy)\n",
    "        H = np.exp(-1j*k*z*np.sqrt(1 - (self.wavelength*Fx)**2 - (self.wavelength*Fy)**2))\n",
    "        H[Fx**2 + Fy**2 > 1/self.wavelength**2] = 0\n",
    "        U0 = np.fft.fftshift(np.fft.fft2(np.fft.fftshift(u0)))\n",
    "        U1 = H*U0\n",
    "        u1 = np.fft.ifftshift(np.fft.ifft2(np.fft.ifftshift(U1)))\n",
    "        return u1\n",
    "    \n",
    "    def backprop(self, u0, z):\n",
    "        '''backpropagates'''\n",
    "        return self.prop(u0, -z)\n",
    "    \n",
    "    "
   ]
  },
  {
   "cell_type": "code",
   "execution_count": 19,
   "id": "99f88054",
   "metadata": {},
   "outputs": [],
   "source": [
    "class FresnelPropagator(Propagator):\n",
    "    def __init__(self, L, wavelength, dx):\n",
    "        Propagator.__init__(self, L, wavelength, dx)\n",
    "        \n",
    "    def fresnelprop(self, u0, z):\n",
    "        '''Performs Fresnel propagation'''\n",
    "        k = 2*np.pi/self.wavelength\n",
    "        fx = np.arange(-1/(2*self.dx),1/(2*self.dx),1/self.L)\n",
    "        fy = np.arange(-1/(2*self.dx),1/(2*self.dx),1/self.L)\n",
    "        Fx, Fy = np.meshgrid(fx,fy)\n",
    "        U0 = np.fft.fftshift(np.fft.fft2(np.fft.fftshift(u0)))\n",
    "        H = np.exp(-1j*np.pi*wavelength*(Fx**2 + Fy**2))\n",
    "        u1 = np.fft.ifftshift(np.fft.ifft2(np.fft.fftshift(H*U0)))\n",
    "        \n",
    "        return u1\n",
    "        \n",
    "        \n"
   ]
  },
  {
   "cell_type": "code",
   "execution_count": 20,
   "id": "7fcfd678",
   "metadata": {},
   "outputs": [],
   "source": [
    "class Lens(Propagator):\n",
    "    def __init__(self, L, wavelength, dx):\n",
    "        Propagator.__init__(self, L, wavelength, dx)\n",
    "        self.r = np.sqrt(self.X**2+self.Y**2)\n",
    "        \n",
    "    def phaseprofile(self, coeffs, antenna_r):\n",
    "        phase0 = 0\n",
    "        r1 = self.r/antenna_r\n",
    "        for i in len(coeffs):\n",
    "            phase0 = phase0 + coeffs(i)*(r1**(2*i))\n",
    "        phase0[self.r > antenna_r] = 0\n",
    "        return phase0\n",
    "\n",
    "    def makephaselens(self, coeffs, antenna_r, padding):\n",
    "        phase0 = self.phaseprofile(coeffs, antenna_r)\n",
    "        lens = np.exp(1j*phase0)\n",
    "        if padding == 0:\n",
    "            lens[self.r > antenna_r] = 0\n",
    "        return lens\n",
    "            \n",
    "    def lenspropagate(self, u0, lens, z1, z2):\n",
    "        b4lens = self.prop(u0, z1)\n",
    "        afterlens = b4lens*lens\n",
    "        u1 =  self.prop(afterlens, z2)\n",
    "        return u1\n",
    "    \n",
    "    def makecplens(self, z1, z2, antenna_r, padding):\n",
    "        R1 = np.sqrt(self.X**2+self.Y**2+z1**2)\n",
    "        R2 = np.sqrt(self.X**2+self.Y**2+z2**2)\n",
    "        lens = np.exp(1j*(2*pi/self.wavelength)*(R1+R2))\n",
    "        if padding == 0:\n",
    "            lens[self.r > antenna_r] = 0\n",
    "        elif padding == 1:\n",
    "            lens[self.r > antenna_r] = 1\n",
    "        return lens\n",
    "\n",
    "        \n",
    "        \n",
    "    def cpthickness(self, z1, z2):\n",
    "        R1 = np.sqrt(self.X**2+self.Y**2+z1^2)\n",
    "        R2 = np.sqrt(self.X**2+self.Y**2+z2^2)\n",
    "        thickness =(2*pi/self.wavelength)*(R1+R2)\n",
    "        return thickness\n",
    "        \n",
    "        \n",
    "    def makelensfromthickness(self, thickness, antenna_r, padding):\n",
    "        lens = np.exp(1j*thickness)\n",
    "        if padding == 0:\n",
    "            lens[self.r > antenna_r] = 0\n",
    "        elif padding == 1:\n",
    "            lens[self.r > antenna_r] = 1\n",
    "        return lens\n",
    "\n",
    "        "
   ]
  },
  {
   "cell_type": "code",
   "execution_count": 21,
   "id": "43b69417",
   "metadata": {},
   "outputs": [],
   "source": [
    "wavelength = 550e-9\n",
    "dx = 0.1e-3\n",
    "L = 5e-2\n",
    "\n",
    "fp = FresnelPropagator(L, wavelength, dx)\n"
   ]
  },
  {
   "cell_type": "code",
   "execution_count": 22,
   "id": "61cd79bf",
   "metadata": {},
   "outputs": [],
   "source": [
    "def u0_create():\n",
    "    '''create source'''\n",
    "    u0 = np.zeros(np.shape(fp.X))\n",
    "\n",
    "    if slit_type.value == 'Double Slit':\n",
    "        separation = separation_slider.value\n",
    "        slitwidth = slit_width_slider.value # also try 0.15 and 0.2 mm\n",
    "        window = windowing.value*(L/2)\n",
    "        u0[abs(fp.X) > separation/2] = 1\n",
    "        u0[abs(fp.X) > separation/2+slitwidth] = 0\n",
    "        u0[abs(fp.Y) > window] = 0\n",
    "    elif slit_type.value == 'Single Slit':\n",
    "        slitwidth = slit_width_slider.value\n",
    "        window = windowing.value*(L/2)\n",
    "        u0[abs(fp.X) < slitwidth/2] = 1\n",
    "        u0[abs(fp.X) > slitwidth/2] = 0\n",
    "        u0[abs(fp.Y) > window] = 0\n",
    "    elif slit_type.value == 'Circular Hole':\n",
    "        r = hole_radius_slider.value\n",
    "        u0[fp.X**2+fp.Y**2 < r**2] = 1\n",
    "    elif slit_type.value == 'Circular Obstacle':\n",
    "        r = bead_radius_slider.value\n",
    "        u0[fp.X**2+fp.Y**2 > r**2] = 1\n",
    "    elif slit_type.value == 'Ring hole':\n",
    "        r2 = hole_radius_slider.value\n",
    "        r1 = bead_radius_slider.value\n",
    "        if r2 > r1:\n",
    "            u0[fp.X**2 + fp.Y**2 > r1**2] = 1\n",
    "            u0[fp.X**2 + fp.Y**2 > r2**2] = 0\n",
    "        else:\n",
    "            print(\"Please do not input unphysical scenarios\")\n",
    "            u0[fp.X**2+fp.Y**2 < r1**2] = 1\n",
    "\n",
    "\n",
    "    plt.figure(1,figsize=[10,10])\n",
    "    plt.imshow(u0,origin='lower',extent=[fp.x[0],fp.x[-1],fp.y[0],fp.y[-1]],cmap='inferno')\n",
    "    plt.title(\"Source Plane\")\n",
    "    plt.xlabel(\"x (m)\")\n",
    "    plt.ylabel(\"y (m)\")\n",
    "    plt.show()\n",
    "    \n",
    "    \n",
    "    return u0"
   ]
  },
  {
   "cell_type": "code",
   "execution_count": 23,
   "id": "d8938d64",
   "metadata": {},
   "outputs": [],
   "source": [
    "def imageplane(u0):\n",
    "    '''Propagate u0 and display image'''\n",
    "    u1 = fp.fresnelprop(u0, 2)\n",
    "    u1 = np.abs(u1)/np.max(np.max(np.abs(u1)))\n",
    "\n",
    "    plt.figure(2, figsize=[10,10])\n",
    "    plt.imshow(u1,origin='lower',extent=[fp.x[0],fp.x[-1],fp.y[0],fp.y[-1]],cmap='inferno')\n",
    "    plt.title(\"Image Plane\")\n",
    "    plt.xlabel(\"x (m)\")\n",
    "    plt.ylabel(\"y (m)\")\n",
    "    plt.colorbar()\n",
    "    plt.show()\n",
    "\n",
    "    return u1[round(len(u1)/2),:]\n"
   ]
  },
  {
   "cell_type": "code",
   "execution_count": 24,
   "id": "10143a1a",
   "metadata": {},
   "outputs": [],
   "source": [
    "def cross_section_plot(u1cs):\n",
    "    '''Plot cross section'''\n",
    "    plt.figure(3,figsize=[10,6])\n",
    "    plt.plot(fp.x, u1cs)\n",
    "    plt.grid()\n",
    "    plt.xlabel(\"x (m)\")\n",
    "    plt.ylabel(\"Intensity\")\n",
    "    plt.title(\"Intensity Cross section\")\n",
    "    plt.show()\n",
    "   "
   ]
  },
  {
   "cell_type": "code",
   "execution_count": 29,
   "id": "9387a8c8",
   "metadata": {},
   "outputs": [
    {
     "data": {
      "application/vnd.jupyter.widget-view+json": {
       "model_id": "eb72d485f1dd47b699bedbd4604bfbcb",
       "version_major": 2,
       "version_minor": 0
      },
      "text/plain": [
       "Dropdown(description='Aperture', options=('Double Slit', 'Single Slit', 'Circular Hole', 'Circular Obstacle', …"
      ]
     },
     "metadata": {},
     "output_type": "display_data"
    },
    {
     "data": {
      "application/vnd.jupyter.widget-view+json": {
       "model_id": "fa56a6554b3948579370f0a5de328925",
       "version_major": 2,
       "version_minor": 0
      },
      "text/plain": [
       "FloatSlider(value=0.0001, description='Slit Width: ', max=0.001, min=0.0001, readout_format='.5f', step=1e-05)"
      ]
     },
     "metadata": {},
     "output_type": "display_data"
    },
    {
     "data": {
      "application/vnd.jupyter.widget-view+json": {
       "model_id": "5d3b1d10a0d0424fb1fb6e95192fd4cf",
       "version_major": 2,
       "version_minor": 0
      },
      "text/plain": [
       "FloatSlider(value=0.0003, continuous_update=False, description='Separation:', max=0.001, readout_format='.5f',…"
      ]
     },
     "metadata": {},
     "output_type": "display_data"
    },
    {
     "data": {
      "application/vnd.jupyter.widget-view+json": {
       "model_id": "73f37c1900914f89bdbb2d56907c1b64",
       "version_major": 2,
       "version_minor": 0
      },
      "text/plain": [
       "FloatSlider(value=0.00015, description='Hole Radius: ', max=0.001, min=0.00015, readout_format='.5f', step=1e-…"
      ]
     },
     "metadata": {},
     "output_type": "display_data"
    },
    {
     "data": {
      "application/vnd.jupyter.widget-view+json": {
       "model_id": "099def6eddef403dbaab835a32bf7c6a",
       "version_major": 2,
       "version_minor": 0
      },
      "text/plain": [
       "FloatSlider(value=0.00015, description='Bead Radius: ', max=0.001, min=0.00015, readout_format='.5f', step=1e-…"
      ]
     },
     "metadata": {},
     "output_type": "display_data"
    },
    {
     "data": {
      "application/vnd.jupyter.widget-view+json": {
       "model_id": "b004c849b157460e88d6b8ff7a8ca207",
       "version_major": 2,
       "version_minor": 0
      },
      "text/plain": [
       "FloatSlider(value=0.5, description='Height:', max=1.0)"
      ]
     },
     "metadata": {},
     "output_type": "display_data"
    },
    {
     "data": {
      "application/vnd.jupyter.widget-view+json": {
       "model_id": "af4abe5a0e44444982390661dd3ba32d",
       "version_major": 2,
       "version_minor": 0
      },
      "text/plain": [
       "Button(description='Run!', style=ButtonStyle())"
      ]
     },
     "metadata": {},
     "output_type": "display_data"
    },
    {
     "data": {
      "application/vnd.jupyter.widget-view+json": {
       "model_id": "46754fa2bff64b12936ed56fdaa22837",
       "version_major": 2,
       "version_minor": 0
      },
      "text/plain": [
       "Button(description='Clear', style=ButtonStyle())"
      ]
     },
     "metadata": {},
     "output_type": "display_data"
    },
    {
     "data": {
      "application/vnd.jupyter.widget-view+json": {
       "model_id": "59ac0866ece049079b34b55e2c3f2789",
       "version_major": 2,
       "version_minor": 0
      },
      "text/plain": [
       "Output()"
      ]
     },
     "metadata": {},
     "output_type": "display_data"
    }
   ],
   "source": [
    "separation_slider = widgets.FloatSlider(\n",
    "    value=0.3e-3,\n",
    "    min=0,\n",
    "    max=1e-3,\n",
    "    step=0.01e-3,\n",
    "    description='Separation:',\n",
    "    disabled=False,\n",
    "    continuous_update=False,\n",
    "    orientation='horizontal',\n",
    "    readout=True,\n",
    "    readout_format='.5f',\n",
    ")\n",
    "\n",
    "slit_width_slider = widgets.FloatSlider(\n",
    "    value=0.1e-3,\n",
    "    min=0.1e-3,\n",
    "    max=1e-3,\n",
    "    step=0.01e-3,\n",
    "    description='Slit Width: ',\n",
    "    readout_format='.5f'\n",
    ")\n",
    "\n",
    "windowing = widgets.FloatSlider(\n",
    "    value=0.5,\n",
    "    min=0,\n",
    "    max=1,\n",
    "    description='Height:'\n",
    "    \n",
    ")\n",
    "\n",
    "\n",
    "slit_type = widgets.Dropdown(\n",
    "    options=['Double Slit', 'Single Slit', 'Circular Hole', 'Circular Obstacle', 'Ring hole'],\n",
    "    description='Aperture',\n",
    "    continous_upate=True\n",
    ")\n",
    "\n",
    "hole_radius_slider = widgets.FloatSlider(\n",
    "    value=0.15e-3,\n",
    "    min=0.15e-3,\n",
    "    max=1e-3,\n",
    "    step=0.01e-3,\n",
    "    description='Hole Radius: ',\n",
    "    readout_format='.5f'\n",
    ")\n",
    "\n",
    "bead_radius_slider = widgets.FloatSlider(\n",
    "    value=0.15e-3,\n",
    "    min=0.15e-3,\n",
    "    max=1e-3,\n",
    "    step=0.01e-3,\n",
    "    description='Bead Radius: ',\n",
    "    readout_format='.5f'\n",
    ")\n",
    "\n",
    "run = widgets.Button(\n",
    "    description=\"Run!\"\n",
    ")\n",
    "clear = widgets.Button(\n",
    "    description=\"Clear\"\n",
    ")\n",
    "\n",
    "\n",
    "output = widgets.Output()\n",
    "display(slit_type, slit_width_slider, separation_slider, hole_radius_slider, bead_radius_slider, windowing, run, clear, output)\n",
    "\n",
    "def run_all(b):\n",
    "    with output:\n",
    "        plt.close('all')\n",
    "        u0 = u0_create()\n",
    "        u1cs = imageplane(u0)\n",
    "        cross_section_plot(u1cs)\n",
    "        \n",
    "def clearall(b):\n",
    "    output.clear_output()\n",
    "    \n",
    "        \n",
    "run.on_click(run_all)\n",
    "clear.on_click(clearall)"
   ]
  }
 ],
 "metadata": {
  "kernelspec": {
   "display_name": "Python 3",
   "language": "python",
   "name": "python3"
  },
  "language_info": {
   "codemirror_mode": {
    "name": "ipython",
    "version": 3
   },
   "file_extension": ".py",
   "mimetype": "text/x-python",
   "name": "python",
   "nbconvert_exporter": "python",
   "pygments_lexer": "ipython3",
   "version": "3.8.8"
  }
 },
 "nbformat": 4,
 "nbformat_minor": 5
}
